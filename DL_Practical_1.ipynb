{
  "nbformat": 4,
  "nbformat_minor": 0,
  "metadata": {
    "colab": {
      "provenance": [],
      "toc_visible": true,
      "include_colab_link": true
    },
    "kernelspec": {
      "name": "python3",
      "display_name": "Python 3"
    },
    "language_info": {
      "name": "python"
    }
  },
  "cells": [
    {
      "cell_type": "markdown",
      "metadata": {
        "id": "view-in-github",
        "colab_type": "text"
      },
      "source": [
        "<a href=\"https://colab.research.google.com/github/AniketDobe/AniketDobe/blob/main/DL_Practical_1.ipynb\" target=\"_parent\"><img src=\"https://colab.research.google.com/assets/colab-badge.svg\" alt=\"Open In Colab\"/></a>"
      ]
    },
    {
      "cell_type": "code",
      "execution_count": 11,
      "metadata": {
        "id": "UrtqN9BWPbQE"
      },
      "outputs": [],
      "source": [
        "import numpy as np\n",
        "import pandas as pd\n",
        "import tensorflow as tf\n",
        "from sklearn.model_selection import train_test_split\n",
        "from sklearn.preprocessing import StandardScaler"
      ]
    },
    {
      "cell_type": "code",
      "source": [
        "# Load Boston housing dataset\n",
        "boston_data_url = 'http://lib.stat.cmu.edu/datasets/boston'\n",
        "boston_df = pd.read_csv(boston_data_url, sep='\\s+', skiprows=22, header=None)\n",
        "X = boston_df.iloc[:, :-1].values\n",
        "y = boston_df.iloc[:, -1].values"
      ],
      "metadata": {
        "id": "7KkiF8YIPn_j"
      },
      "execution_count": 12,
      "outputs": []
    },
    {
      "cell_type": "code",
      "source": [
        "# Split the dataset into training and testing sets\n",
        "X_train, X_test, y_train, y_test = train_test_split(X, y, test_size=0.2, random_state=42)"
      ],
      "metadata": {
        "id": "P-kN_xUdPrj1"
      },
      "execution_count": 13,
      "outputs": []
    },
    {
      "cell_type": "code",
      "source": [
        "# Standardize features\n",
        "scaler = StandardScaler()\n",
        "X_train_scaled = scaler.fit_transform(X_train)\n",
        "X_test_scaled = scaler.transform(X_test)"
      ],
      "metadata": {
        "id": "PxhbUIPjPuyv"
      },
      "execution_count": 14,
      "outputs": []
    },
    {
      "cell_type": "code",
      "source": [
        "# Build a linear regression model using a DNN\n",
        "model = tf.keras.Sequential([\n",
        "    tf.keras.layers.Input(shape=(X_train.shape[1],)),\n",
        "    tf.keras.layers.Dense(64, activation='relu'),\n",
        "    tf.keras.layers.Dense(32, activation='relu'),\n",
        "    tf.keras.layers.Dense(1)\n",
        "])"
      ],
      "metadata": {
        "id": "yrW6x65GPwNe"
      },
      "execution_count": 15,
      "outputs": []
    },
    {
      "cell_type": "code",
      "source": [
        "# Compile the model\n",
        "model.compile(optimizer='adam', loss='mean_squared_error')"
      ],
      "metadata": {
        "id": "GEB0rft9P1YX"
      },
      "execution_count": 16,
      "outputs": []
    },
    {
      "cell_type": "code",
      "source": [
        "# Train the model\n",
        "model.fit(X_train_scaled, y_train, epochs=50, batch_size=32, verbose=2)"
      ],
      "metadata": {
        "colab": {
          "base_uri": "https://localhost:8080/"
        },
        "id": "BTitw3kEP4vE",
        "outputId": "1d8d06c6-ddef-431a-ffdd-8022756c60ef"
      },
      "execution_count": 17,
      "outputs": [
        {
          "output_type": "stream",
          "name": "stdout",
          "text": [
            "Epoch 1/50\n",
            "26/26 - 2s - loss: nan - 2s/epoch - 61ms/step\n",
            "Epoch 2/50\n",
            "26/26 - 0s - loss: nan - 122ms/epoch - 5ms/step\n",
            "Epoch 3/50\n",
            "26/26 - 0s - loss: nan - 118ms/epoch - 5ms/step\n",
            "Epoch 4/50\n",
            "26/26 - 0s - loss: nan - 114ms/epoch - 4ms/step\n",
            "Epoch 5/50\n",
            "26/26 - 0s - loss: nan - 92ms/epoch - 4ms/step\n",
            "Epoch 6/50\n",
            "26/26 - 0s - loss: nan - 80ms/epoch - 3ms/step\n",
            "Epoch 7/50\n",
            "26/26 - 0s - loss: nan - 97ms/epoch - 4ms/step\n",
            "Epoch 8/50\n",
            "26/26 - 0s - loss: nan - 121ms/epoch - 5ms/step\n",
            "Epoch 9/50\n",
            "26/26 - 0s - loss: nan - 115ms/epoch - 4ms/step\n",
            "Epoch 10/50\n",
            "26/26 - 0s - loss: nan - 109ms/epoch - 4ms/step\n",
            "Epoch 11/50\n",
            "26/26 - 0s - loss: nan - 112ms/epoch - 4ms/step\n",
            "Epoch 12/50\n",
            "26/26 - 0s - loss: nan - 84ms/epoch - 3ms/step\n",
            "Epoch 13/50\n",
            "26/26 - 0s - loss: nan - 131ms/epoch - 5ms/step\n",
            "Epoch 14/50\n",
            "26/26 - 0s - loss: nan - 242ms/epoch - 9ms/step\n",
            "Epoch 15/50\n",
            "26/26 - 0s - loss: nan - 156ms/epoch - 6ms/step\n",
            "Epoch 16/50\n",
            "26/26 - 0s - loss: nan - 143ms/epoch - 6ms/step\n",
            "Epoch 17/50\n",
            "26/26 - 0s - loss: nan - 133ms/epoch - 5ms/step\n",
            "Epoch 18/50\n",
            "26/26 - 0s - loss: nan - 135ms/epoch - 5ms/step\n",
            "Epoch 19/50\n",
            "26/26 - 0s - loss: nan - 132ms/epoch - 5ms/step\n",
            "Epoch 20/50\n",
            "26/26 - 0s - loss: nan - 140ms/epoch - 5ms/step\n",
            "Epoch 21/50\n",
            "26/26 - 0s - loss: nan - 129ms/epoch - 5ms/step\n",
            "Epoch 22/50\n",
            "26/26 - 0s - loss: nan - 213ms/epoch - 8ms/step\n",
            "Epoch 23/50\n",
            "26/26 - 0s - loss: nan - 285ms/epoch - 11ms/step\n",
            "Epoch 24/50\n",
            "26/26 - 0s - loss: nan - 186ms/epoch - 7ms/step\n",
            "Epoch 25/50\n",
            "26/26 - 0s - loss: nan - 89ms/epoch - 3ms/step\n",
            "Epoch 26/50\n",
            "26/26 - 0s - loss: nan - 79ms/epoch - 3ms/step\n",
            "Epoch 27/50\n",
            "26/26 - 0s - loss: nan - 74ms/epoch - 3ms/step\n",
            "Epoch 28/50\n",
            "26/26 - 0s - loss: nan - 83ms/epoch - 3ms/step\n",
            "Epoch 29/50\n",
            "26/26 - 0s - loss: nan - 81ms/epoch - 3ms/step\n",
            "Epoch 30/50\n",
            "26/26 - 0s - loss: nan - 65ms/epoch - 3ms/step\n",
            "Epoch 31/50\n",
            "26/26 - 0s - loss: nan - 48ms/epoch - 2ms/step\n",
            "Epoch 32/50\n",
            "26/26 - 0s - loss: nan - 49ms/epoch - 2ms/step\n",
            "Epoch 33/50\n",
            "26/26 - 0s - loss: nan - 72ms/epoch - 3ms/step\n",
            "Epoch 34/50\n",
            "26/26 - 0s - loss: nan - 52ms/epoch - 2ms/step\n",
            "Epoch 35/50\n",
            "26/26 - 0s - loss: nan - 54ms/epoch - 2ms/step\n",
            "Epoch 36/50\n",
            "26/26 - 0s - loss: nan - 52ms/epoch - 2ms/step\n",
            "Epoch 37/50\n",
            "26/26 - 0s - loss: nan - 53ms/epoch - 2ms/step\n",
            "Epoch 38/50\n",
            "26/26 - 0s - loss: nan - 50ms/epoch - 2ms/step\n",
            "Epoch 39/50\n",
            "26/26 - 0s - loss: nan - 53ms/epoch - 2ms/step\n",
            "Epoch 40/50\n",
            "26/26 - 0s - loss: nan - 53ms/epoch - 2ms/step\n",
            "Epoch 41/50\n",
            "26/26 - 0s - loss: nan - 50ms/epoch - 2ms/step\n",
            "Epoch 42/50\n",
            "26/26 - 0s - loss: nan - 51ms/epoch - 2ms/step\n",
            "Epoch 43/50\n",
            "26/26 - 0s - loss: nan - 50ms/epoch - 2ms/step\n",
            "Epoch 44/50\n",
            "26/26 - 0s - loss: nan - 50ms/epoch - 2ms/step\n",
            "Epoch 45/50\n",
            "26/26 - 0s - loss: nan - 52ms/epoch - 2ms/step\n",
            "Epoch 46/50\n",
            "26/26 - 0s - loss: nan - 50ms/epoch - 2ms/step\n",
            "Epoch 47/50\n",
            "26/26 - 0s - loss: nan - 53ms/epoch - 2ms/step\n",
            "Epoch 48/50\n",
            "26/26 - 0s - loss: nan - 51ms/epoch - 2ms/step\n",
            "Epoch 49/50\n",
            "26/26 - 0s - loss: nan - 52ms/epoch - 2ms/step\n",
            "Epoch 50/50\n",
            "26/26 - 0s - loss: nan - 52ms/epoch - 2ms/step\n"
          ]
        },
        {
          "output_type": "execute_result",
          "data": {
            "text/plain": [
              "<keras.src.callbacks.History at 0x78a9aeac87c0>"
            ]
          },
          "metadata": {},
          "execution_count": 17
        }
      ]
    },
    {
      "cell_type": "code",
      "source": [
        "# Evaluate the model on test data\n",
        "loss = model.evaluate(X_test_scaled, y_test, verbose=0)\n",
        "print(\"Test Loss:\", loss)"
      ],
      "metadata": {
        "colab": {
          "base_uri": "https://localhost:8080/"
        },
        "id": "BHd2uL2nP9bk",
        "outputId": "040dea7e-634d-4c01-8e89-9cdebe5fdbcc"
      },
      "execution_count": 18,
      "outputs": [
        {
          "output_type": "stream",
          "name": "stdout",
          "text": [
            "Test Loss: nan\n"
          ]
        }
      ]
    },
    {
      "cell_type": "code",
      "source": [
        "# Predict on test data\n",
        "y_pred = model.predict(X_test_scaled)"
      ],
      "metadata": {
        "colab": {
          "base_uri": "https://localhost:8080/"
        },
        "id": "2HW0DUPmQBxc",
        "outputId": "03c842ad-29df-462b-85cb-fdf0a1514367"
      },
      "execution_count": 19,
      "outputs": [
        {
          "output_type": "stream",
          "name": "stdout",
          "text": [
            "7/7 [==============================] - 0s 2ms/step\n"
          ]
        }
      ]
    },
    {
      "cell_type": "code",
      "source": [
        "# Calculate some metrics (e.g., Mean Absolute Error)\n",
        "mae = np.mean(np.abs(y_test - y_pred))\n",
        "print(\"Mean Absolute Error:\", mae)"
      ],
      "metadata": {
        "colab": {
          "base_uri": "https://localhost:8080/"
        },
        "id": "bLoiB0U8QP_M",
        "outputId": "301c0bb9-a157-4541-ad0b-ed5d5cb72186"
      },
      "execution_count": 20,
      "outputs": [
        {
          "output_type": "stream",
          "name": "stdout",
          "text": [
            "Mean Absolute Error: nan\n"
          ]
        }
      ]
    }
  ]
}